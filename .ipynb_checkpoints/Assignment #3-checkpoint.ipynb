{
 "cells": [
  {
   "cell_type": "code",
   "execution_count": 1,
   "metadata": {
    "collapsed": true
   },
   "outputs": [],
   "source": [
    "# Gonzalo Vazquez - kNN Assignment"
   ]
  },
  {
   "cell_type": "code",
   "execution_count": 11,
   "metadata": {
    "collapsed": true
   },
   "outputs": [],
   "source": [
    "from math import sqrt"
   ]
  },
  {
   "cell_type": "code",
   "execution_count": 34,
   "metadata": {
    "collapsed": true
   },
   "outputs": [],
   "source": [
    "# Euclidean Distance\n",
    "# The \"ordinary\" straight-line distance between two points in \n",
    "# Euclidean space.\n",
    "def euclidean_distance(x, y):\n",
    "    x_axis = y[0] - x[0]\n",
    "    y_axis = y[1] - x[1]\n",
    "    sub_result = pow(x_axis, 2) + pow(y_axis, 2)\n",
    "    print(sqrt(sub_result))\n",
    "    "
   ]
  },
  {
   "cell_type": "code",
   "execution_count": 37,
   "metadata": {
    "collapsed": false
   },
   "outputs": [
    {
     "name": "stdout",
     "output_type": "stream",
     "text": [
      "10.0\n",
      "8.0622577483\n",
      "8.0777472107\n"
     ]
    }
   ],
   "source": [
    "euclidean_distance([5,2], [-3,-4])\n",
    "euclidean_distance([1,5],[2,-3])\n",
    "euclidean_distance([3.2, 5, 7, 1],[-4.3, 8, 0, 21.1])"
   ]
  },
  {
   "cell_type": "code",
   "execution_count": 42,
   "metadata": {
    "collapsed": true
   },
   "outputs": [],
   "source": [
    "# Manhattan Distance\n",
    "def manhattan_distance(x, y):\n",
    "    x_axis = y[0] - x[0]\n",
    "    y_axis = y[1] - x[1]\n",
    "    sub_result = abs(x_axis) + abs(y_axis)\n",
    "    print(sub_result)"
   ]
  },
  {
   "cell_type": "code",
   "execution_count": 44,
   "metadata": {
    "collapsed": false
   },
   "outputs": [
    {
     "name": "stdout",
     "output_type": "stream",
     "text": [
      "14\n",
      "9\n",
      "10.5\n"
     ]
    }
   ],
   "source": [
    "manhattan_distance([5,2], [-3,-4])\n",
    "manhattan_distance([1,5],[2,-3])\n",
    "manhattan_distance([3.2, 5, 7, 1],[-4.3, 8, 0, 21.1])"
   ]
  },
  {
   "cell_type": "code",
   "execution_count": null,
   "metadata": {
    "collapsed": true
   },
   "outputs": [],
   "source": []
  }
 ],
 "metadata": {
  "kernelspec": {
   "display_name": "Python 2",
   "language": "python",
   "name": "python2"
  },
  "language_info": {
   "codemirror_mode": {
    "name": "ipython",
    "version": 2
   },
   "file_extension": ".py",
   "mimetype": "text/x-python",
   "name": "python",
   "nbconvert_exporter": "python",
   "pygments_lexer": "ipython2",
   "version": "2.7.13"
  }
 },
 "nbformat": 4,
 "nbformat_minor": 2
}
